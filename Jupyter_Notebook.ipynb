{
 "cells": [
  {
   "cell_type": "markdown",
   "metadata": {},
   "source": [
    "<center>\n",
    "    <img src=\"https://cf-courses-data.s3.us.cloud-object-storage.appdomain.cloud/IBMDeveloperSkillsNetwork-DS0105EN-SkillsNetwork/labs/Module2/images/SN_web_lightmode.png\" width=\"300\" alt=\"cognitiveclass.ai logo\">\n",
    "</center>\n"
   ]
  },
  {
   "cell_type": "markdown",
   "metadata": {},
   "source": [
    "#### Add your code below following the instructions given in the course\n"
   ]
  },
  {
   "cell_type": "markdown",
   "metadata": {},
   "source": [
    "# MyJupyter Notebook on IBM Watson Studio"
   ]
  },
  {
   "cell_type": "markdown",
   "metadata": {},
   "source": [
    "**Himanshu Saini** and I am a graduate student. My desired occupation to become a Data Scientist."
   ]
  },
  {
   "cell_type": "markdown",
   "metadata": {},
   "source": [
    "_I am interested in data science because this is the fascinating field to me and I love programming and face new challenge. Now a days, the Data science is being used by most of the industrial sectors which gives more job opportunities._"
   ]
  },
  {
   "cell_type": "markdown",
   "metadata": {},
   "source": [
    "### In cell 5 I am going to write a code which display \"Hello World!\" and then multiply two float values using NumPy."
   ]
  },
  {
   "cell_type": "code",
   "execution_count": 2,
   "metadata": {},
   "outputs": [
    {
     "name": "stdout",
     "output_type": "stream",
     "text": [
      "Hello World!\n",
      "150.0\n"
     ]
    }
   ],
   "source": [
    "print (\"Hello World!\")\n",
    "\n",
    "import numpy as np\n",
    "\n",
    "a = float(10.00)\n",
    "b = float(15.00)\n",
    "\n",
    "print (np.multiply(a, b))"
   ]
  },
  {
   "cell_type": "markdown",
   "metadata": {},
   "source": [
    "---\n",
    "* Item 1\n",
    "* Item 2\n",
    "1. Item 3\n",
    "2. Item 4\n",
    "\n",
    "| Column 1 | Column 2 | Column 3 |\n",
    "| :--- | :----: | ---: |\n",
    "| 00 | 01 | 02 |\n",
    "| 10 | 11 | 12 |\n",
    "| 20 | 21 | 22 |\n",
    "\n",
    "\n",
    "IBM [link](https://www.ibm.com/ca-en). \\\n",
    "Google [link](https://www.google.com).\n",
    "\n",
    "# IBM Logo\n",
    "![Alt](02_8-bar-reverse.png) \\\n",
    "[source](https://www.ibm.com/brand/experience-guides/developer/brand/logo/?mhsrc=ibmsearch_a&mhq=IBM%20logo) \\\n",
    "\n",
    "`This is a code.`\n",
    "~~~~\n",
    "This is a \n",
    "piece of code \n",
    "in a block\n",
    "~~~~\n",
    "\n",
    "```python\n",
    "print (\"Hello World!\")\n",
    "```\n",
    "\n",
    "> Some text.\n",
    ">> Some more text.\n",
    "\n",
    "~~This is an example of strikethrough text.~~"
   ]
  },
  {
   "cell_type": "code",
   "execution_count": null,
   "metadata": {},
   "outputs": [],
   "source": []
  }
 ],
 "metadata": {
  "kernelspec": {
   "display_name": "Python",
   "language": "python",
   "name": "conda-env-python-py"
  },
  "language_info": {
   "codemirror_mode": {
    "name": "ipython",
    "version": 3
   },
   "file_extension": ".py",
   "mimetype": "text/x-python",
   "name": "python",
   "nbconvert_exporter": "python",
   "pygments_lexer": "ipython3",
   "version": "3.7.12"
  }
 },
 "nbformat": 4,
 "nbformat_minor": 4
}
